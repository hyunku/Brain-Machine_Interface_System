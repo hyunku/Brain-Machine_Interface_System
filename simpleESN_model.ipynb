{
  "nbformat": 4,
  "nbformat_minor": 0,
  "metadata": {
    "colab": {
      "name": "simpleESN_model.ipynb",
      "provenance": [],
      "collapsed_sections": [
        "zBMQgf-BA-JE"
      ],
      "include_colab_link": true
    },
    "kernelspec": {
      "name": "python3",
      "display_name": "Python 3"
    },
    "language_info": {
      "name": "python"
    }
  },
  "cells": [
    {
      "cell_type": "markdown",
      "metadata": {
        "id": "view-in-github",
        "colab_type": "text"
      },
      "source": [
        "<a href=\"https://colab.research.google.com/github/hyunku/Brain-Machine_Interface_System/blob/main/simpleESN_model.ipynb\" target=\"_parent\"><img src=\"https://colab.research.google.com/assets/colab-badge.svg\" alt=\"Open In Colab\"/></a>"
      ]
    },
    {
      "cell_type": "markdown",
      "source": [
        "# 1. 라이브러리 import"
      ],
      "metadata": {
        "id": "x1YN97i_QGgG"
      }
    },
    {
      "cell_type": "code",
      "source": [
        "!pip install mne"
      ],
      "metadata": {
        "id": "mIyfoslcOTv4",
        "colab": {
          "base_uri": "https://localhost:8080/"
        },
        "outputId": "8765e04c-353e-44dd-a4df-dba32d0164d5"
      },
      "execution_count": null,
      "outputs": [
        {
          "output_type": "stream",
          "name": "stdout",
          "text": [
            "Looking in indexes: https://pypi.org/simple, https://us-python.pkg.dev/colab-wheels/public/simple/\n",
            "Collecting mne\n",
            "  Downloading mne-1.0.3-py3-none-any.whl (7.5 MB)\n",
            "\u001b[K     |████████████████████████████████| 7.5 MB 8.4 MB/s \n",
            "\u001b[?25hRequirement already satisfied: numpy>=1.15.4 in /usr/local/lib/python3.7/dist-packages (from mne) (1.21.6)\n",
            "Requirement already satisfied: jinja2 in /usr/local/lib/python3.7/dist-packages (from mne) (2.11.3)\n",
            "Requirement already satisfied: packaging in /usr/local/lib/python3.7/dist-packages (from mne) (21.3)\n",
            "Requirement already satisfied: tqdm in /usr/local/lib/python3.7/dist-packages (from mne) (4.64.0)\n",
            "Requirement already satisfied: matplotlib in /usr/local/lib/python3.7/dist-packages (from mne) (3.2.2)\n",
            "Requirement already satisfied: pooch>=1.5 in /usr/local/lib/python3.7/dist-packages (from mne) (1.6.0)\n",
            "Requirement already satisfied: decorator in /usr/local/lib/python3.7/dist-packages (from mne) (4.4.2)\n",
            "Requirement already satisfied: scipy>=1.1.0 in /usr/local/lib/python3.7/dist-packages (from mne) (1.4.1)\n",
            "Requirement already satisfied: requests>=2.19.0 in /usr/local/lib/python3.7/dist-packages (from pooch>=1.5->mne) (2.23.0)\n",
            "Requirement already satisfied: appdirs>=1.3.0 in /usr/local/lib/python3.7/dist-packages (from pooch>=1.5->mne) (1.4.4)\n",
            "Requirement already satisfied: pyparsing!=3.0.5,>=2.0.2 in /usr/local/lib/python3.7/dist-packages (from packaging->mne) (3.0.9)\n",
            "Requirement already satisfied: idna<3,>=2.5 in /usr/local/lib/python3.7/dist-packages (from requests>=2.19.0->pooch>=1.5->mne) (2.10)\n",
            "Requirement already satisfied: chardet<4,>=3.0.2 in /usr/local/lib/python3.7/dist-packages (from requests>=2.19.0->pooch>=1.5->mne) (3.0.4)\n",
            "Requirement already satisfied: urllib3!=1.25.0,!=1.25.1,<1.26,>=1.21.1 in /usr/local/lib/python3.7/dist-packages (from requests>=2.19.0->pooch>=1.5->mne) (1.24.3)\n",
            "Requirement already satisfied: certifi>=2017.4.17 in /usr/local/lib/python3.7/dist-packages (from requests>=2.19.0->pooch>=1.5->mne) (2022.6.15)\n",
            "Requirement already satisfied: MarkupSafe>=0.23 in /usr/local/lib/python3.7/dist-packages (from jinja2->mne) (2.0.1)\n",
            "Requirement already satisfied: cycler>=0.10 in /usr/local/lib/python3.7/dist-packages (from matplotlib->mne) (0.11.0)\n",
            "Requirement already satisfied: python-dateutil>=2.1 in /usr/local/lib/python3.7/dist-packages (from matplotlib->mne) (2.8.2)\n",
            "Requirement already satisfied: kiwisolver>=1.0.1 in /usr/local/lib/python3.7/dist-packages (from matplotlib->mne) (1.4.3)\n",
            "Requirement already satisfied: typing-extensions in /usr/local/lib/python3.7/dist-packages (from kiwisolver>=1.0.1->matplotlib->mne) (4.1.1)\n",
            "Requirement already satisfied: six>=1.5 in /usr/local/lib/python3.7/dist-packages (from python-dateutil>=2.1->matplotlib->mne) (1.15.0)\n",
            "Installing collected packages: mne\n",
            "Successfully installed mne-1.0.3\n"
          ]
        }
      ]
    },
    {
      "cell_type": "code",
      "source": [
        "##필요 모듈 import\n",
        "import os\n",
        "import sys\n",
        "import pandas as pd\n",
        "import numpy as np\n",
        "from scipy import signal\n",
        "import mne\n",
        "import matplotlib.pyplot as plt\n",
        "from mpl_toolkits.axes_grid1 import make_axes_locatable\n",
        "from matplotlib import pyplot as plt\n",
        "from datetime import datetime\n",
        "import time\n",
        "from sklearn.model_selection import GridSearchCV, train_test_split\n",
        "from sklearn.linear_model import Ridge, Lasso, LinearRegression\n",
        "from sklearn.metrics import mean_squared_error\n",
        "from sklearn.pipeline import Pipeline\n",
        "from sklearn.svm import SVR\n",
        "import math\n",
        "from google.colab import drive\n",
        "drive.mount('/content/drive')\n",
        "\n",
        "%matplotlib inline"
      ],
      "metadata": {
        "id": "GrUAihm_P5Mj",
        "colab": {
          "base_uri": "https://localhost:8080/"
        },
        "outputId": "7b510113-c6ef-46f1-d997-e2ff35265f63"
      },
      "execution_count": null,
      "outputs": [
        {
          "output_type": "stream",
          "name": "stdout",
          "text": [
            "Mounted at /content/drive\n"
          ]
        }
      ]
    },
    {
      "cell_type": "markdown",
      "source": [
        "# ESN 과정 간단설명 및 ESN 정의 - spectral radius는 여기서 수정"
      ],
      "metadata": {
        "id": "C6QSzS9upyRR"
      }
    },
    {
      "cell_type": "markdown",
      "source": [
        "1. ESN 모델 설정\n",
        "2. train 셋 ESN 모델 통과시켜서 ESN의 가중치 학습\n",
        "3. ESN 모델을 통과시킨 train 셋을 학습시킬 머신러닝 모델 학습\n",
        "4. test 셋을 학습시킨 ESN모델에 통과시킴 (ESN 학습 X)\n",
        "5. 통과시킨 test 데이터셋을 train셋으로 학습된 머신러닝 모델 통과시킴.\n",
        "6. ESN + 머신러닝 모델을 통과시킨 결과 예측"
      ],
      "metadata": {
        "id": "kdL4pTurp2Cb"
      }
    },
    {
      "cell_type": "markdown",
      "source": [
        "<크게 두 단계에 걸쳐서 진행>\n",
        "\n",
        "ESN 과 ESN 통과시킬 선형모델 생성 후 각각 학습\n",
        "\n",
        "학습시킨 ESN, 모델 사용"
      ],
      "metadata": {
        "id": "cdG8-TptQOkI"
      }
    },
    {
      "cell_type": "code",
      "source": [
        "\"\"\"Simple Echo State Network\n",
        "\"\"\"\n",
        "\n",
        "import numpy as np\n",
        "from numpy import arange, array, concatenate, ones, tanh, vstack, zeros\n",
        "\n",
        "import scipy.linalg as la\n",
        "\n",
        "from sklearn.base import BaseEstimator, TransformerMixin\n",
        "from sklearn.utils import check_array, check_random_state\n",
        "\n",
        "\n",
        "class SimpleESN(BaseEstimator, TransformerMixin):\n",
        "\n",
        "    # ESN 모델 설정 가능 파라미터\n",
        "    def __init__(self, n_readout, n_components=100, damping=0.5,\n",
        "                 weight_scaling=0.9, discard_steps=0, random_state=None):\n",
        "        self.n_readout = n_readout # 출력층 뉴런 수\n",
        "        self.n_components = n_components # reservoir 뉴런 수\n",
        "        self.damping = damping # reservoir 내 뉴런 손실률(뉴런끼리 연결 안될 확률)\n",
        "        self.weight_scaling = weight_scaling # 가중치 학습률\n",
        "        self.discard_steps = discard_steps # dropout(데이터 버릴확률)\n",
        "        self.random_state = check_random_state(random_state)\n",
        "        self.input_weights_ = None\n",
        "        self.readout_idx_ = None\n",
        "        self.weights_ = None\n",
        "\n",
        "    # ESN 모델 학습 (현재 캡슐화 상태 -> 건드리지 말라고 권장한다는 의미.)\n",
        "    def _fit_transform(self, X):\n",
        "        n_samples, n_features = X.shape\n",
        "        X = check_array(X, ensure_2d=True)\n",
        "\n",
        "######## -0.x 부분이 spectral_radius 수정 부분(가중치 파라미터 수정 후 그걸로 spectral_radius 결정됨) \n",
        "        # spectral_radius 디폴트값 : 0.5 임. 만약 0.4로 수정시 추상적으로 spectral_radius = 1-0.4 = 0.6으로 설정됨.\n",
        "        self.weights_ = self.random_state.rand(\n",
        "            self.n_components, self.n_components)-0.5\n",
        "        # 가중치 업데이트 도중 spectral_radius 추출\n",
        "        spectral_radius = np.max(np.abs(la.eig(self.weights_)[0]))\n",
        "        # 가중치 업데이트 과정 -> weight_scaling 값으로 나눈 값으로 가중치를 업데이트함. -> weight_scaling은 가중치 학습률이다.\n",
        "        self.weights_ *= self.weight_scaling / spectral_radius \n",
        "\n",
        "######## -0.x 부분 수정으로 인풋 가중치 수정 가능\n",
        "        self.input_weights_ = self.random_state.rand(self.n_components,\n",
        "                                                     1+n_features)-0.5\n",
        "        self.readout_idx_ = self.random_state.permutation(\n",
        "            arange(1+n_features,\n",
        "                   1+n_features+self.n_components))[:self.n_readout]\n",
        "        self.components_ = zeros(shape=(1+n_features+self.n_components,\n",
        "                                        n_samples))\n",
        "\n",
        "        curr_ = zeros(shape=(self.n_components, 1))\n",
        "        U = concatenate((ones(shape=(n_samples, 1)), X), axis=1)\n",
        "        for t in range(n_samples):\n",
        "            u = array(U[t, :], ndmin=2).T\n",
        "            curr_ = (1-self.damping)*curr_ + self.damping*tanh(\n",
        "                self.input_weights_.dot(u) + self.weights_.dot(curr_))\n",
        "            self.components_[:, t] = vstack((u, curr_))[:, 0]\n",
        "        return self\n",
        "\n",
        "    # ESN 모델 통과한 인풋을 머신러닝 모델에 학습\n",
        "    def fit(self, X, y=None):\n",
        "        \"\"\"Initialize the network\n",
        "\n",
        "        This is more compatibility step, as no learning takes place in the\n",
        "        reservoir.\n",
        "\n",
        "        Parameters\n",
        "        ----------\n",
        "        X : array-like shape, (n_samples, n_features)\n",
        "            The data to be transformed.\n",
        "\n",
        "        Returns\n",
        "        -------\n",
        "        self : returns an instance of self.\n",
        "        \"\"\"\n",
        "        self = self._fit_transform(X)\n",
        "        return self\n",
        "\n",
        "    # ESN 모델 학습 (가중치 학습)\n",
        "    def fit_transform(self, X, y=None):\n",
        "        \"\"\"Generate echoes from the reservoir.\n",
        "\n",
        "        Parameters\n",
        "        ----------\n",
        "        X : array-like of shape [n_samples, n_features]\n",
        "            training set.\n",
        "\n",
        "        Returns\n",
        "        -------\n",
        "        readout : array, shape (n_samples, n_readout)\n",
        "            Reservoir activation generated by the readout neurons\n",
        "        \"\"\"\n",
        "        self = self._fit_transform(X)\n",
        "        return self.components_[self.readout_idx_, self.discard_steps:].T\n",
        "\n",
        "    # 학습시킨 모델 사용(사전학습된 가중치 받아서 가중치 학습 X)\n",
        "    def transform(self, X):\n",
        "        \"\"\"Generate echoes from the reservoir\n",
        "\n",
        "        Parameters\n",
        "        ----------\n",
        "        X : array-like shape, (n_samples, n_features)\n",
        "            The data to be transformed.\n",
        "\n",
        "        Returns\n",
        "        -------\n",
        "        readout : array, shape (n_samples, n_readout)\n",
        "            Reservoir activation generated by the readout neurons\n",
        "        \"\"\"\n",
        "        X = check_array(X, ensure_2d=True)\n",
        "        n_samples, n_features = X.shape\n",
        "\n",
        "        # -0.x 부분이 spectral_radius 수정 부분(가중치 파라미터 수정 후 그걸로 spectral_radius 결정됨) -> fit transform 에서 수정했던 동일한 수치로 고쳐주기.\n",
        "        if self.weights_ is None:\n",
        "            self.weights_ = self.random_state.rand(self.n_components,\n",
        "                                                   self.n_components)-0.5\n",
        "            spectral_radius = np.max(np.abs(la.eig(self.weights_)[0]))\n",
        "            self.weights_ *= self.weight_scaling / spectral_radius\n",
        "\n",
        "        # -0.x 부분 수정으로 인풋 가중치 수정 가능\n",
        "        if self.input_weights_ is None:\n",
        "            self.input_weights_ = self.random_state.rand(self.n_components,\n",
        "                                                         1+n_features)-0.5\n",
        "        if self.readout_idx_ is None:\n",
        "            self.readout_idx_ = self.random_state.permutation(\n",
        "                arange(1+n_features,\n",
        "                       1+n_features+self.n_components))[:self.n_readout]\n",
        "        self.components_ = zeros(shape=(1+n_features+self.n_components,\n",
        "                                        n_samples))\n",
        "\n",
        "        curr_ = zeros(shape=(self.n_components, 1))\n",
        "        U = concatenate((ones(shape=(n_samples, 1)), X), axis=1)\n",
        "        for t in range(n_samples):\n",
        "            u = array(U[t, :], ndmin=2).T\n",
        "            curr_ = (1-self.damping)*curr_ + self.damping*tanh(\n",
        "                self.input_weights_.dot(u) + self.weights_.dot(curr_))\n",
        "            self.components_[:, t] = vstack((u, curr_))[:, 0]\n",
        "\n",
        "        return self.components_[self.readout_idx_, self.discard_steps:].T"
      ],
      "metadata": {
        "id": "skOvFhayizal"
      },
      "execution_count": null,
      "outputs": []
    },
    {
      "cell_type": "markdown",
      "source": [
        "# 2. 데이터 로드"
      ],
      "metadata": {
        "id": "gz47O9sHQMtu"
      }
    },
    {
      "cell_type": "code",
      "source": [
        "# read csv (작은 데이터) - shape : (707,993)\n",
        "# eeg=pd.read_csv('/content/drive/MyDrive/MNE/psd_csvfilles/eeg_2022-05-21_13-39-16.csv')\n",
        "# train=pd.read_csv('/content/drive/MyDrive/MNE/psd_csvfilles/session_train_2022-05-21_13-38-40.csv')"
      ],
      "metadata": {
        "id": "V3w96ENZEY7q"
      },
      "execution_count": null,
      "outputs": []
    },
    {
      "cell_type": "code",
      "source": [
        "# read csv (용량 큰 데이터) - shape : (47339, 993)\n",
        "EEG_DIR = \"/content/drive/Shareddrives/MindPong/code/rawdata/eeg\"\n",
        "TRAIN_DIR = \"/content/drive/Shareddrives/MindPong/code/rawdata/train\"\n",
        "\n",
        "eeg = pd.DataFrame()\n",
        "train = pd.DataFrame()\n",
        "\n",
        "for root, _, filenames in os.walk(EEG_DIR): # root, directorys, filenames\n",
        "  for filename in filenames:\n",
        "    imsi = pd.read_csv(os.path.join(root,filename))\n",
        "    eeg = pd.concat([eeg, imsi])\n",
        "\n",
        "for root, _, filenames in os.walk(TRAIN_DIR):\n",
        "  for filename in filenames:\n",
        "    imsi = pd.read_csv(os.path.join(root,filename))\n",
        "    train = pd.concat([train, imsi])\n",
        "\n",
        "eeg.reset_index(drop=True, inplace=True)\n",
        "train.reset_index(drop=True, inplace=True)"
      ],
      "metadata": {
        "id": "JUq-79cy1qx8"
      },
      "execution_count": null,
      "outputs": []
    },
    {
      "cell_type": "markdown",
      "source": [
        "# 3. 전처리 + 모델링"
      ],
      "metadata": {
        "id": "q_TgDMDPQoTw"
      }
    },
    {
      "cell_type": "code",
      "source": [
        "# define parameters\n",
        "n_channels = 16 \n",
        "s_freq = 128  # in Hertz\n",
        "ch_names = ['Fp1', 'Fp2', 'C3', 'C4', 'P7', 'P8', 'O1', 'O2', 'F7', 'F8', 'T7', 'T8', 'F3', 'F4', 'P3', 'P4']\n",
        "ch_types = ['eeg'] * n_channels\n",
        "all_ch_names = ch_names + ['Task','STM']\n",
        "all_ch_types = ch_types + ['misc','misc']\n",
        "p_detrend = 1 # 0: OFF, 1: On\n",
        "p_normalization = 1 # 0: do not, 1: [0, 1] scaling, 2: standardization (x-mean)/var\n",
        "p_n_filenames = 7\n",
        "p_ica_flag = 1\n",
        "p_ts_psd_flag = 0\n",
        "l_freqs = 1\n",
        "h_freqs = 60"
      ],
      "metadata": {
        "id": "OUX3za7QOnEm"
      },
      "execution_count": null,
      "outputs": []
    },
    {
      "cell_type": "code",
      "source": [
        "''' Function about extract filtered data and bandpass data from raw data '''\n",
        "\n",
        "def filtering_bandpass(data): # required input data shpae : DataFrame\n",
        "  info = mne.create_info(ch_names=ch_names, sfreq=s_freq, ch_types='eeg') # make info\n",
        "  st_idx = 1\n",
        "  time = 62\n",
        "  ch_li = []\n",
        "  \n",
        "  # gather and average from buffer\n",
        "  for chan in range(n_channels):\n",
        "    ch_li.append(data.iloc[:,time*chan + st_idx:time*(chan+1) + st_idx].sum(axis=1) / len(data.iloc[:,time*chan + st_idx:time*(chan+1) + st_idx].T)) # 1 ~ 62*1 + 1, 62*1 + 1 ~ 62*2 + 1\n",
        "  \n",
        "  ch_df = pd.DataFrame(ch_li).T\n",
        "  t = pd.DataFrame(data.iloc[:,0])\n",
        "  df = pd.concat([t,ch_df], axis=1)\n",
        "  \n",
        "  # dataframe -> mne rawarray\n",
        "  raw = mne.io.RawArray(ch_df.T, info, verbose=False)    # make mne object\n",
        "\n",
        "  # filtering and bandpass (by Hertz)\n",
        "  raw_filtered = raw.filter(l_freq=60,h_freq=.5,picks='eeg', method='iir').to_data_frame().drop(columns=['time']) # 0.5 ~ 60\n",
        "  delta_band = raw.filter(l_freq=4,h_freq=.5,picks='eeg', method='iir').to_data_frame().drop(columns=['time']) # 0.5 ~ 4\n",
        "  theta_band = raw.filter(l_freq=8,h_freq=4,picks='eeg', method='iir').to_data_frame().drop(columns=['time']) # 4 ~ 8\n",
        "  alpha_band = raw.filter(l_freq=12,h_freq=8,picks='eeg', method='iir').to_data_frame().drop(columns=['time']) # 8 ~12\n",
        "  beta_band = raw.filter(l_freq=30,h_freq=12,picks='eeg', method='iir').to_data_frame().drop(columns=['time']) # 12 ~ 30\n",
        "  gamma_band = raw.filter(l_freq=45,h_freq=30,picks='eeg', method='iir').to_data_frame().drop(columns=['time']) # 30 ~ 45\n",
        "\n",
        "  # make column names\n",
        "  ch_names_arr = np.char.array(['Fp1', 'Fp2', 'C3', 'C4', 'P7', 'P8', 'O1', 'O2', 'F7', 'F8', 'T7', 'T8', 'F3', 'F4', 'P3', 'P4'])\n",
        "  band_labels_arr = np.char.array([\"-origin\", \"-Delta\", \"-Theta\", \"-Alpha\", \"-Beta\", \"-Gamma\"])\n",
        "  ch_band_labels = ch_names_arr[np.newaxis, :] + band_labels_arr[:, np.newaxis]\n",
        "  new_cols = ch_band_labels.flatten()\n",
        "  \n",
        "  raw_filtered = pd.concat([raw_filtered, delta_band, theta_band, alpha_band, beta_band, gamma_band], axis=1)\n",
        "  \n",
        "  raw_filtered.columns = new_cols\n",
        "  raw_filtered = pd.concat([t,raw_filtered], axis=1)\n",
        "\n",
        "  return raw_filtered"
      ],
      "metadata": {
        "id": "L16SexsfCH0z"
      },
      "execution_count": null,
      "outputs": []
    },
    {
      "cell_type": "code",
      "source": [
        "# data filtering using by user-defined function\n",
        "eeg=filtering_bandpass(eeg)\n",
        "\n",
        "eeg['timestamp']=pd.to_datetime(eeg['timestamp'])\n",
        "train['timestamp']=pd.to_datetime(train['timestamp'])\n",
        "train=train.rename(columns={' event(1:up':'event'})\n",
        "\n",
        "eeg_band = eeg.iloc[:,17:]\n",
        "eeg = eeg.iloc[:,:17]\n",
        "\n",
        "eeg['event']=0\n",
        "\n",
        "# deploy target data to eeg data by timestamp (merge train data and eeg data)\n",
        "for i in range(0,len(train)-1):\n",
        "  for t in range(0,len(eeg)):\n",
        "    if train['timestamp'][i]< eeg['timestamp'][t] and (train['timestamp'][i+1]>eeg['timestamp'][t])==True:\n",
        "       eeg.event[t]=train.event[i]\n",
        "\n",
        "# drop the columns which doesn't have target data\n",
        "eeg.drop(eeg.loc[eeg['event']==0].index, inplace=True)"
      ],
      "metadata": {
        "id": "uiuD54yzOpc9",
        "colab": {
          "base_uri": "https://localhost:8080/"
        },
        "outputId": "41055175-a74e-4ea9-a650-f6e647971f34"
      },
      "execution_count": null,
      "outputs": [
        {
          "output_type": "stream",
          "name": "stdout",
          "text": [
            "Filtering raw data in 1 contiguous segment\n",
            "Setting up band-stop filter from 0.5 - 60 Hz\n",
            "\n",
            "IIR filter parameters\n",
            "---------------------\n",
            "Butterworth bandstop zero-phase (two-pass forward and reverse) non-causal filter:\n",
            "- Filter order 16 (effective, after forward-backward)\n",
            "- Cutoffs at 0.50, 60.00 Hz: -6.02, -6.02 dB\n",
            "\n",
            "Filtering raw data in 1 contiguous segment\n",
            "Setting up band-stop filter from 0.5 - 4 Hz\n",
            "\n",
            "IIR filter parameters\n",
            "---------------------\n",
            "Butterworth bandstop zero-phase (two-pass forward and reverse) non-causal filter:\n",
            "- Filter order 16 (effective, after forward-backward)\n",
            "- Cutoffs at 0.50, 4.00 Hz: -6.02, -6.02 dB\n",
            "\n",
            "Filtering raw data in 1 contiguous segment\n",
            "Setting up band-stop filter from 4 - 8 Hz\n",
            "\n",
            "IIR filter parameters\n",
            "---------------------\n",
            "Butterworth bandstop zero-phase (two-pass forward and reverse) non-causal filter:\n",
            "- Filter order 16 (effective, after forward-backward)\n",
            "- Cutoffs at 4.00, 8.00 Hz: -6.02, -6.02 dB\n",
            "\n",
            "Filtering raw data in 1 contiguous segment\n",
            "Setting up band-stop filter from 8 - 12 Hz\n",
            "\n",
            "IIR filter parameters\n",
            "---------------------\n",
            "Butterworth bandstop zero-phase (two-pass forward and reverse) non-causal filter:\n",
            "- Filter order 16 (effective, after forward-backward)\n",
            "- Cutoffs at 8.00, 12.00 Hz: -6.02, -6.02 dB\n",
            "\n",
            "Filtering raw data in 1 contiguous segment\n",
            "Setting up band-stop filter from 12 - 30 Hz\n",
            "\n",
            "IIR filter parameters\n",
            "---------------------\n",
            "Butterworth bandstop zero-phase (two-pass forward and reverse) non-causal filter:\n",
            "- Filter order 16 (effective, after forward-backward)\n",
            "- Cutoffs at 12.00, 30.00 Hz: -6.02, -6.02 dB\n",
            "\n",
            "Filtering raw data in 1 contiguous segment\n",
            "Setting up band-stop filter from 30 - 45 Hz\n",
            "\n",
            "IIR filter parameters\n",
            "---------------------\n",
            "Butterworth bandstop zero-phase (two-pass forward and reverse) non-causal filter:\n",
            "- Filter order 16 (effective, after forward-backward)\n",
            "- Cutoffs at 30.00, 45.00 Hz: -6.02, -6.02 dB\n",
            "\n"
          ]
        },
        {
          "output_type": "stream",
          "name": "stderr",
          "text": [
            "/usr/local/lib/python3.7/dist-packages/ipykernel_launcher.py:17: SettingWithCopyWarning: \n",
            "A value is trying to be set on a copy of a slice from a DataFrame\n",
            "\n",
            "See the caveats in the documentation: https://pandas.pydata.org/pandas-docs/stable/user_guide/indexing.html#returning-a-view-versus-a-copy\n"
          ]
        }
      ]
    },
    {
      "cell_type": "code",
      "source": [
        "# data split to X / Y (input / target)\n",
        "train_eeg=eeg.drop(['timestamp'],axis='columns')\n",
        "train_eeg=train_eeg.iloc[:,:-1].values\n",
        "train_event=eeg.drop(['timestamp'],axis='columns')\n",
        "train_event=train_event.iloc[:,-1].values\n",
        "\n",
        "# data split to train / test\n",
        "train_length = math.ceil(len(eeg) * 0.75) # train data : 75% of data \n",
        "#test_length = len(eeg)-train_length\n",
        "\"\"\" X_train = X[:train_length]\n",
        "    y_train = X[1:train_length+1]\n",
        "    X_test = X[train_length:train_length+test_length]\n",
        "    y_test = X[train_length+1:train_length+test_length+1]\n",
        "\"\"\"\n",
        "\n",
        "X_train = train_eeg[:train_length]\n",
        "y_train= train_event[:train_length]\n",
        "X_test = train_eeg[train_length:]\n",
        "y_test = train_event[train_length:]\n",
        "\n",
        "# Simple training\n",
        "# ESN 모델 생성\n",
        "# n_readout : 출력층 뉴런수, n_components : reservoir 뉴런수, damping : reservoir 내 뉴런 손실률(뉴런끼리 연결 안될 확률), weight_scaling : 가중치 학습률\n",
        "# n_components : 3000개부터 30000 개까지 1000개단위 증가시켜보기\n",
        "# spectral_radis-us : 0.1\n",
        "# 인풋 : 밴드별로 6(밴드+raw) * 6(채널)개 인풋...\n",
        "# 아웃풋 : 두가지 version -> 지금 현재, sparse한 version -> 데이터 당 -1,1,1 이런식(핸드폰메모 참고)\n",
        "# 코드수정 : 파일구조 초반 directory 구조 자동화 수정.\n",
        "# 깃허브에 코드 꼭 다 올려라!!!\n",
        "my_esn = SimpleESN(n_readout=1, n_components=len(eeg.columns),\n",
        "                       damping=0.2, weight_scaling=1.25)\n",
        "'''학습 과정'''\n",
        "# ESN 모델 사용(통과)\n",
        "echo_train = my_esn.fit_transform(X_train)\n",
        "# ESN 거친 후 머신러닝 모델 사용(선형회귀)\n",
        "# regr = Ridge(alpha=0.05)\n",
        "regr = LinearRegression()\n",
        "# regr = SVR()\n",
        "# 머신러닝 모델 학습\n",
        "regr.fit(echo_train, y_train)\n",
        "\n",
        "'''모델 사용 과정'''\n",
        "# 머신러닝 모델 사용\n",
        "echo_test = my_esn.transform(X_test)\n",
        "# 예측\n",
        "y_true, y_pred = y_test, regr.predict(echo_test)\n",
        "# 오차\n",
        "err = mean_squared_error(y_true, y_pred)"
      ],
      "metadata": {
        "id": "bmkGIIlY07PN"
      },
      "execution_count": null,
      "outputs": []
    },
    {
      "cell_type": "code",
      "source": [
        "y_true"
      ],
      "metadata": {
        "colab": {
          "base_uri": "https://localhost:8080/"
        },
        "id": "IS_MLVWyjwq_",
        "outputId": "4fc35b98-8bb3-4421-b02e-22620f89af12"
      },
      "execution_count": null,
      "outputs": [
        {
          "output_type": "execute_result",
          "data": {
            "text/plain": [
              "array([-1, -1, -1, ...,  1,  1,  1])"
            ]
          },
          "metadata": {},
          "execution_count": 19
        }
      ]
    },
    {
      "cell_type": "code",
      "source": [
        "y_pred"
      ],
      "metadata": {
        "colab": {
          "base_uri": "https://localhost:8080/"
        },
        "id": "ooNSn9_3kQUL",
        "outputId": "ef396dbe-2bf6-4ece-b0ab-558f7e38c913"
      },
      "execution_count": null,
      "outputs": [
        {
          "output_type": "execute_result",
          "data": {
            "text/plain": [
              "array([-0.10663768, -0.04001574,  0.0132818 , ...,  0.2255145 ,\n",
              "        0.225706  ,  0.2258592 ])"
            ]
          },
          "metadata": {},
          "execution_count": 20
        }
      ]
    },
    {
      "cell_type": "code",
      "source": [
        "err"
      ],
      "metadata": {
        "colab": {
          "base_uri": "https://localhost:8080/"
        },
        "id": "UL5BHkJOkaLS",
        "outputId": "c9f28e66-5ec3-4a4e-c354-951822ab4214"
      },
      "execution_count": null,
      "outputs": [
        {
          "output_type": "execute_result",
          "data": {
            "text/plain": [
              "1.1187868054115888"
            ]
          },
          "metadata": {},
          "execution_count": 21
        }
      ]
    },
    {
      "cell_type": "code",
      "source": [
        "print(f'true_len : {len(y_true)} pred_len : {len(y_pred)}')"
      ],
      "metadata": {
        "colab": {
          "base_uri": "https://localhost:8080/"
        },
        "id": "M-pr4dNQ4M3x",
        "outputId": "3835ccb7-d083-4e89-9f10-b5e19953d2bf"
      },
      "execution_count": null,
      "outputs": [
        {
          "output_type": "stream",
          "name": "stdout",
          "text": [
            "true_len : 21759 pred_len : 21759\n"
          ]
        }
      ]
    },
    {
      "cell_type": "code",
      "source": [
        "# scaling\n",
        "y_true = np.where(y_true == 1, 0.2, y_true)\n",
        "y_true = np.where(y_true == -1, -0.2, y_true)\n",
        "y_true"
      ],
      "metadata": {
        "id": "LksxdKNzAtGK",
        "colab": {
          "base_uri": "https://localhost:8080/"
        },
        "outputId": "126d19bb-9eab-40b9-af7a-d5ea1668f2bc"
      },
      "execution_count": null,
      "outputs": [
        {
          "output_type": "execute_result",
          "data": {
            "text/plain": [
              "array([-0.2, -0.2, -0.2, ...,  0.2,  0.2,  0.2])"
            ]
          },
          "metadata": {},
          "execution_count": 23
        }
      ]
    },
    {
      "cell_type": "code",
      "source": [
        "plt.figure(figsize=(30,15))\n",
        "plt.plot(y_true, 'b-', label='true')\n",
        "plt.plot(y_pred, 'r-', label='pred')\n",
        "plt.legend()"
      ],
      "metadata": {
        "colab": {
          "base_uri": "https://localhost:8080/",
          "height": 761
        },
        "id": "ceEVGVbZN5OX",
        "outputId": "2ca6d661-a0db-47ed-d32e-496e49e833fe"
      },
      "execution_count": null,
      "outputs": [
        {
          "output_type": "execute_result",
          "data": {
            "text/plain": [
              "<matplotlib.legend.Legend at 0x7fb95f947b50>"
            ]
          },
          "metadata": {},
          "execution_count": 24
        },
        {
          "output_type": "display_data",
          "data": {
            "text/plain": [
              "<Figure size 2160x1080 with 1 Axes>"
            ],
            "image/png": "[encoded data removed]"
          },
          "metadata": {
            "needs_background": "light"
          }
        }
      ]
    },
    {
      "cell_type": "code",
      "source": [
        "err"
      ],
      "metadata": {
        "colab": {
          "base_uri": "https://localhost:8080/"
        },
        "id": "oZGxUClnOR4e",
        "outputId": "83c48811-5b3e-4088-f9fb-0267939a7d8e"
      },
      "execution_count": null,
      "outputs": [
        {
          "output_type": "execute_result",
          "data": {
            "text/plain": [
              "1.0592866414460214"
            ]
          },
          "metadata": {},
          "execution_count": 40
        }
      ]
    },
    {
      "cell_type": "markdown",
      "source": [
        "# 5. 정리"
      ],
      "metadata": {
        "id": "zBMQgf-BA-JE"
      }
    },
    {
      "cell_type": "code",
      "source": [
        "from sklearn.model_selection import GridSearchCV, train_test_split\n",
        "from sklearn.linear_model import Ridge, Lasso, LinearRegression\n",
        "from sklearn.metrics import mean_squared_error\n",
        "from sklearn.pipeline import Pipeline\n",
        "from sklearn.svm import SVR\n",
        "import math\n",
        "\n",
        "# data filtering using by user-defined function\n",
        "eeg=filtering_bandpass(eeg)\n",
        "\n",
        "eeg['timestamp']=pd.to_datetime(eeg['timestamp'])\n",
        "train['timestamp']=pd.to_datetime(train['timestamp'])\n",
        "train=train.rename(columns={' event(1:up':'event'})\n",
        "\n",
        "eeg_band = eeg.iloc[:,17:]\n",
        "eeg = eeg.iloc[:,:17]\n",
        "\n",
        "eeg['event']=0\n",
        "\n",
        "# deploy target data to eeg data by timestamp (merge train data and eeg data)\n",
        "for i in range(0,len(train)-1):\n",
        "  for t in range(0,len(eeg)):\n",
        "    if train['timestamp'][i]< eeg['timestamp'][t] and (train['timestamp'][i+1]>eeg['timestamp'][t])==True:\n",
        "       eeg.event[t]=train.event[i]\n",
        "\n",
        "# drop the columns which doesn't have target data\n",
        "eeg.drop(eeg.loc[eeg['event']==0].index, inplace=True)\n",
        "\n",
        "# data split to X / Y (input / target)\n",
        "train_eeg=eeg.drop(['timestamp'],axis='columns')\n",
        "train_eeg=train_eeg.iloc[:,:-1].values\n",
        "train_event=eeg.drop(['timestamp'],axis='columns')\n",
        "train_event=train_event.iloc[:,-1].values\n",
        "\n",
        "# data split to train / test\n",
        "train_length = math.ceil(len(eeg) * 0.75) # train data : 75% of data \n",
        "#test_length = len(eeg)-train_length\n",
        "\"\"\" X_train = X[:train_length]\n",
        "    y_train = X[1:train_length+1]\n",
        "    X_test = X[train_length:train_length+test_length]\n",
        "    y_test = X[train_length+1:train_length+test_length+1]\n",
        "\"\"\"\n",
        "\n",
        "X_train = train_eeg[:train_length]\n",
        "y_train= train_event[:train_length]\n",
        "X_test = train_eeg[train_length:]\n",
        "y_test = train_event[train_length:]\n",
        "\n",
        "# Simple training\n",
        "# ESN 모델 생성\n",
        "# n_readout : 출력층 뉴런수, n_components : reservoir 뉴런수, damping : reservoir 내 뉴런 손실률(뉴런끼리 연결 안될 확률), weight_scaling : 가중치 학습률\n",
        "my_esn = SimpleESN(n_readout=2, n_components=len(eeg.columns),\n",
        "                       damping=0.2, weight_scaling=1.25)\n",
        "'''학습 과정'''\n",
        "# ESN 모델 사용(통과)\n",
        "echo_train = my_esn.fit_transform(X_train)\n",
        "# ESN 거친 후 머신러닝 모델 사용(선형회귀)\n",
        "# regr = Ridge(alpha=0.05)\n",
        "regr = LinearRegression()\n",
        "# regr = SVR()\n",
        "# 머신러닝 모델 학습\n",
        "regr.fit(echo_train, y_train)\n",
        "\n",
        "'''모델 사용 과정'''\n",
        "# 머신러닝 모델 사용\n",
        "echo_test = my_esn.transform(X_test)\n",
        "# 예측\n",
        "y_true, y_pred = y_test, regr.predict(echo_test)\n",
        "# 오차\n",
        "err = mean_squared_error(y_true, y_pred)"
      ],
      "metadata": {
        "id": "B65ev4hAT3d9"
      },
      "execution_count": null,
      "outputs": []
    },
    {
      "cell_type": "code",
      "source": [
        "# 시각화\n",
        "plt.figure(figsize=(15,8))\n",
        "plt.plot(y_true, 'b-', label='true')\n",
        "plt.plot(y_pred, 'r-', label='pred')\n",
        "plt.legend()"
      ],
      "metadata": {
        "id": "OkWjNyzpBKUl"
      },
      "execution_count": null,
      "outputs": []
    }
  ]
}